{
 "cells": [
  {
   "cell_type": "code",
   "execution_count": 10,
   "metadata": {},
   "outputs": [],
   "source": [
    "from typing import List\n",
    "def get_requirements()-> List:\n",
    "    \"\"\"\n",
    "\n",
    "    This function returns a list of requirements in list format\n",
    "    \"\"\"\n",
    "    try:\n",
    "        requirement_list:List[str] = []\n",
    "\n",
    "        with open('requirements.txt', 'r') as f:\n",
    "            lines = f.readlines()\n",
    "        lines.remove(\"-e .\\n\")\n",
    "        print(lines)\n",
    "\n",
    "        return requirement_list\n",
    "    except Exception as e:\n",
    "        raise e"
   ]
  },
  {
   "cell_type": "code",
   "execution_count": 11,
   "metadata": {},
   "outputs": [
    {
     "name": "stdout",
     "output_type": "stream",
     "text": [
      "['pymongo==4.2.0\\n']\n"
     ]
    },
    {
     "data": {
      "text/plain": [
       "[]"
      ]
     },
     "execution_count": 11,
     "metadata": {},
     "output_type": "execute_result"
    }
   ],
   "source": [
    "get_requirements()"
   ]
  },
  {
   "cell_type": "code",
   "execution_count": null,
   "metadata": {},
   "outputs": [],
   "source": []
  }
 ],
 "metadata": {
  "kernelspec": {
   "display_name": "Python 3.8.13 (conda)",
   "language": "python",
   "name": "python3"
  },
  "language_info": {
   "codemirror_mode": {
    "name": "ipython",
    "version": 3
   },
   "file_extension": ".py",
   "mimetype": "text/x-python",
   "name": "python",
   "nbconvert_exporter": "python",
   "pygments_lexer": "ipython3",
   "version": "3.8.13"
  },
  "orig_nbformat": 4,
  "vscode": {
   "interpreter": {
    "hash": "46eb847f3134abe3f212e7b58d14f5cd81f345523ffa7fff445aa49ffbdaca71"
   }
  }
 },
 "nbformat": 4,
 "nbformat_minor": 2
}
